{
 "cells": [
  {
   "cell_type": "markdown",
   "id": "ccdca4e1",
   "metadata": {},
   "source": [
    "# Assignment  Python  For loop solution \n",
    "      Basic Level:"
   ]
  },
  {
   "cell_type": "markdown",
   "id": "52e61210",
   "metadata": {},
   "source": [
    "# 1. Write a Python program to print the numbers from 1 to 10 using a `for` loop."
   ]
  },
  {
   "cell_type": "code",
   "execution_count": 1,
   "id": "86e69e6c",
   "metadata": {},
   "outputs": [
    {
     "name": "stdout",
     "output_type": "stream",
     "text": [
      "1\n",
      "2\n",
      "3\n",
      "4\n",
      "5\n",
      "6\n",
      "7\n",
      "8\n",
      "9\n",
      "10\n"
     ]
    }
   ],
   "source": [
    "# Using a for loop to iterate over a range of numbers from 1 to 11 (exclusive)\n",
    "for i in range(1, 11):\n",
    "    # Printing the current value of the loop variable 'i'\n",
    "    print(i)\n"
   ]
  },
  {
   "cell_type": "markdown",
   "id": "7c8d96fe",
   "metadata": {},
   "source": [
    "# 2. Create a program that calculates the sum of all numbers in a list using a `for` loop."
   ]
  },
  {
   "cell_type": "code",
   "execution_count": 10,
   "id": "27ed1f9b",
   "metadata": {},
   "outputs": [
    {
     "name": "stdout",
     "output_type": "stream",
     "text": [
      "Sum: 69\n"
     ]
    }
   ],
   "source": [
    "# Define a list of numbers\n",
    "numbers = [3, 7, 9, 5, 45]\n",
    "\n",
    "# Initialize a variable to store the sum\n",
    "sum_result = 0\n",
    "\n",
    "# Using a for loop to iterate over each element in the list\n",
    "for num in numbers:\n",
    "    # Adding the current number to the sum\n",
    "    sum_result += num\n",
    "\n",
    "# Printing the result\n",
    "print(\"Sum:\", sum_result)\n"
   ]
  },
  {
   "cell_type": "markdown",
   "id": "95cc5690",
   "metadata": {},
   "source": [
    "In this program, a list of numbers is defined, a sum variable is \n",
    "initialized to zero, and a for loop is used to iterate over the\n",
    "list, adding each number to the sum. Finally, the total sum is\n",
    "printed to the console."
   ]
  },
  {
   "cell_type": "markdown",
   "id": "e3030137",
   "metadata": {},
   "source": [
    "# 3. Write a program to print the characters of a string in reverse order using a `for` loop."
   ]
  },
  {
   "cell_type": "code",
   "execution_count": 17,
   "id": "150dd907",
   "metadata": {},
   "outputs": [
    {
     "name": "stdout",
     "output_type": "stream",
     "text": [
      "!hahsnahahs,dammahom"
     ]
    }
   ],
   "source": [
    "# define the string \n",
    "my_string=\"mohammad,shahanshah!\"\n",
    "#use a for loop to iterate over the string in reverse\n",
    "for char in reversed(my_string):\n",
    "    #print each charecter\n",
    "    print(char,end =\"\")"
   ]
  },
  {
   "cell_type": "markdown",
   "id": "9054fa4c",
   "metadata": {},
   "source": [
    "\n",
    "This Python program prints the characters of the string \n",
    "\"mohammad,shahanshah!\" in reverse order using a for loop and the\n",
    "reversed() function. It iterates through each character in \n",
    "reverse and prints them on the same line, resulting in the \n",
    "output: !!hahsnahahs,dammahom"
   ]
  },
  {
   "cell_type": "markdown",
   "id": "19053d5f",
   "metadata": {},
   "source": [
    "# 4. Develop a program that finds the factorial of a given number using a `for` loop."
   ]
  },
  {
   "cell_type": "code",
   "execution_count": 41,
   "id": "0fa98cdf",
   "metadata": {},
   "outputs": [
    {
     "name": "stdout",
     "output_type": "stream",
     "text": [
      "The factorial of 7 is 5040\n"
     ]
    }
   ],
   "source": [
    "# Function to calculate the factorial of a number\n",
    "def factorial(n):\n",
    "    result = 1\n",
    "\n",
    "# Using a for loop to multiply numbers from 1 to n\n",
    "    for i in range(1, n + 1):\n",
    "        result *= i\n",
    "\n",
    "    return result\n",
    "\n",
    "# Input: The number for which factorial is to be calculated\n",
    "number = 7\n",
    "\n",
    "# Output: Print the factorial of the input number\n",
    "print(f\"The factorial of {number} is {factorial(number)}\")\n"
   ]
  },
  {
   "cell_type": "markdown",
   "id": "f1610891",
   "metadata": {},
   "source": [
    "\n",
    "This Python program calculates the factorial of a given number using a for loop. It defines a function factorial that multiplies numbers from 1 to the given number. The example input is 5, and the output is \"The factorial of 7 is 5040\n"
   ]
  },
  {
   "cell_type": "markdown",
   "id": "274e8d71",
   "metadata": {},
   "source": [
    "# 5. Create a program to print the multiplication table of a given number using a `for` loop."
   ]
  },
  {
   "cell_type": "code",
   "execution_count": 48,
   "id": "f3df8cba",
   "metadata": {},
   "outputs": [
    {
     "name": "stdout",
     "output_type": "stream",
     "text": [
      "13 x 1 = 13\n",
      "13 x 2 = 26\n",
      "13 x 3 = 39\n",
      "13 x 4 = 52\n",
      "13 x 5 = 65\n"
     ]
    }
   ],
   "source": [
    "# Input: The number for which the multiplication table is to be printed\n",
    "num = 13\n",
    "\n",
    "# Using a for loop to iterate over the range 1 to 11 (exclusive)\n",
    "for i in range(1, 6):\n",
    "    # Multiply the number by the loop variable and print the result\n",
    "    print(f\"{num} x {i} = {num * i}\")\n"
   ]
  },
  {
   "cell_type": "markdown",
   "id": "d8ad74f2",
   "metadata": {},
   "source": [
    "# 6. Write a program that counts the number of even and odd numbers in a list using a `for` loop."
   ]
  },
  {
   "cell_type": "code",
   "execution_count": 2,
   "id": "9e7ba413",
   "metadata": {},
   "outputs": [
    {
     "name": "stdout",
     "output_type": "stream",
     "text": [
      "Even numbers: 8\n",
      "Odd numbers: 8\n"
     ]
    }
   ],
   "source": [
    "def count_even_odd(numbers):\n",
    "    even_count = 0\n",
    "    odd_count = 0\n",
    "\n",
    "    for number in numbers:\n",
    "        if number % 2 == 0:\n",
    "            even_count += 1\n",
    "        else:\n",
    "            odd_count += 1\n",
    "\n",
    "    return even_count, odd_count\n",
    "\n",
    "# Example usage:\n",
    "numbers_list = [1, 2, 3, 4, 5, 6,8, 7, 8, 9, 10,9,76,9,8,87]\n",
    "even_count, odd_count = count_even_odd(numbers_list)\n",
    "\n",
    "print(\"Even numbers:\", even_count)\n",
    "print(\"Odd numbers:\", odd_count)\n"
   ]
  },
  {
   "cell_type": "markdown",
   "id": "6dcc9f4d",
   "metadata": {},
   "source": [
    "count_even_odd, which takes a list of numbers as input and counts the number of even and odd numbers using a for loop. Inside the loop, each number is checked for evenness, and the corresponding count is incremented. The final counts are then returned by the function. The example usage at the end demonstrates how to use the function with a sample list and prints the counts of even and odd numbers.\n",
    "\n",
    "\n",
    "\n",
    "\n",
    "\n"
   ]
  },
  {
   "cell_type": "markdown",
   "id": "b9dd673a",
   "metadata": {},
   "source": [
    "# 7. Develop a program that prints the squares of numbers from 1 to 5 using a `for` loop."
   ]
  },
  {
   "cell_type": "code",
   "execution_count": 8,
   "id": "7f89ea13",
   "metadata": {},
   "outputs": [
    {
     "name": "stdout",
     "output_type": "stream",
     "text": [
      "The square of number1 is :1\n",
      "The square of number2 is :4\n",
      "The square of number3 is :9\n",
      "The square of number4 is :16\n",
      "The square of number5 is :25\n"
     ]
    }
   ],
   "source": [
    "for number in range(1,6):\n",
    "    square =number**2\n",
    "    print (f\"The square of number{number} is :{square}\")"
   ]
  },
  {
   "cell_type": "markdown",
   "id": "b24093df",
   "metadata": {},
   "source": [
    "This Python program uses a for loop to iterate over numbers from 1 to 5 (inclusive). Inside the loop, it calculates the square of each number using the ** operator and prints the result. The program showcases a simple use of a for loop to perform a repetitive task for a specified range of values"
   ]
  },
  {
   "cell_type": "markdown",
   "id": "55b6ed7f",
   "metadata": {},
   "source": [
    "# 8. Create a program to find the length of a string without using the `len()` function."
   ]
  },
  {
   "cell_type": "code",
   "execution_count": 2,
   "id": "10965df0",
   "metadata": {},
   "outputs": [
    {
     "name": "stdout",
     "output_type": "stream",
     "text": [
      "Enter a string: shahanshah\n",
      "Length of the string: 10\n"
     ]
    }
   ],
   "source": [
    "def find_length(input_string):\n",
    "    count = 0\n",
    "    for char in input_string:\n",
    "        count += 1\n",
    "    return count\n",
    "\n",
    "# Example usage:\n",
    "user_input = input(\"Enter a string: \")\n",
    "length = find_length(user_input)\n",
    "print(\"Length of the string:\", length)\n"
   ]
  },
  {
   "cell_type": "markdown",
   "id": "5dfc9a48",
   "metadata": {},
   "source": [
    "Certainly! This program calculates the length of a string without using the len() function. It iterates through each character in the string using a for loop and increments a counter for each character. The final counter value represents the length of the string."
   ]
  },
  {
   "cell_type": "markdown",
   "id": "9b42169d",
   "metadata": {},
   "source": [
    "# 9. Write a program that calculates the average of a list of numbers using a `for` loop."
   ]
  },
  {
   "cell_type": "code",
   "execution_count": 8,
   "id": "6290a4cc",
   "metadata": {},
   "outputs": [
    {
     "name": "stdout",
     "output_type": "stream",
     "text": [
      "Average: 20.571428571428573\n"
     ]
    }
   ],
   "source": [
    "def calculate_average(number):\n",
    "    total=0\n",
    "    count=0\n",
    "    \n",
    "    for num in number :\n",
    "        total+=num\n",
    "        count+=1\n",
    "    if count==0:\n",
    "            print(\"cannot calculate average for an enpty  list.\")\n",
    "    else:\n",
    "\n",
    "        average =total/count\n",
    "        print(\"Average:\", average)\n",
    "           # Example usage:\n",
    "number_list = [55,7, 10, 15, 20, 25 ,12]\n",
    "calculate_average(number_list) "
   ]
  },
  {
   "cell_type": "markdown",
   "id": "a2387f7c",
   "metadata": {},
   "source": [
    "\n",
    "This Python program uses a for loop to calculate the average of a list of numbers. It iterates through the list, summing up the numbers and counting them. The average is then calculated by dividing the total sum by the count of numbers. If the list is empty, it prints a message stating that the average cannot be calculated for an empty list."
   ]
  },
  {
   "cell_type": "markdown",
   "id": "e0dc7472",
   "metadata": {},
   "source": [
    "# 10. Develop a program that prints the first `n` Fibonacci numbers using a `for` loop."
   ]
  },
  {
   "cell_type": "code",
   "execution_count": 9,
   "id": "9e5f8d0b",
   "metadata": {},
   "outputs": [
    {
     "name": "stdout",
     "output_type": "stream",
     "text": [
      "Enter the value of n: 5\n",
      "The first 5 Fibonacci numbers are: [0, 1, 1, 2, 3]\n"
     ]
    }
   ],
   "source": [
    "def generate_fibonacci(n):\n",
    "    fibonacci_numbers = [0, 1]\n",
    "\n",
    "    for i in range(2, n):\n",
    "        next_number = fibonacci_numbers[i - 1] + fibonacci_numbers[i - 2]\n",
    "        fibonacci_numbers.append(next_number)\n",
    "\n",
    "    return fibonacci_numbers\n",
    "\n",
    "# Example usage:\n",
    "n = int(input(\"Enter the value of n: \"))\n",
    "fibonacci_sequence = generate_fibonacci(n)\n",
    "print(f\"The first {n} Fibonacci numbers are: {fibonacci_sequence}\")\n"
   ]
  },
  {
   "cell_type": "markdown",
   "id": "9168fffe",
   "metadata": {},
   "source": [
    "This Python program uses a for loop to generate and print the first n Fibonacci numbers. It starts with the initial sequence of 0 and 1, and in each iteration of the loop, it calculates the next Fibonacci number by summing the last two. The resulting sequence is then printed.\n",
    "\n",
    "\n",
    "\n",
    "\n",
    "\n"
   ]
  },
  {
   "cell_type": "markdown",
   "id": "61e9fda7",
   "metadata": {},
   "source": [
    "# Type:2 ,Intermediate Level:"
   ]
  },
  {
   "cell_type": "markdown",
   "id": "d60c7e50",
   "metadata": {},
   "source": [
    "# 11. Write a program to check if a given list contains any duplicates using a `for` loop."
   ]
  },
  {
   "cell_type": "code",
   "execution_count": 11,
   "id": "958a88c8",
   "metadata": {},
   "outputs": [
    {
     "name": "stdout",
     "output_type": "stream",
     "text": [
      "The list contains duplicates.\n"
     ]
    }
   ],
   "source": [
    "def has_duplicates(input_list):\n",
    "    seen = set()\n",
    "\n",
    "    for item in input_list:\n",
    "        if item in seen:\n",
    "            return True\n",
    "        seen.add(item)\n",
    "\n",
    "    return False\n",
    "\n",
    "# Example usage:\n",
    "user_list = [1, 2, 3, 4, 5, 1]  # This list contains duplicates\n",
    "if has_duplicates(user_list):\n",
    "    print(\"The list contains duplicates.\")\n",
    "else:\n",
    "    print(\"The list does not contain duplicates.\")\n"
   ]
  },
  {
   "cell_type": "markdown",
   "id": "59148e68",
   "metadata": {},
   "source": [
    "his program uses a set (seen) to keep track of unique elements encountered so far. It iterates through the list and checks if each element has been seen before. If it finds a duplicate, it returns True; otherwise, it returns False. In the example, my_list contains a duplicate (the number 1), so the program prints \"Has duplicates: True\"."
   ]
  },
  {
   "cell_type": "markdown",
   "id": "91445878",
   "metadata": {},
   "source": [
    "# 12. Create a program that prints the prime numbers in a given range using a `for` loop."
   ]
  },
  {
   "cell_type": "code",
   "execution_count": 15,
   "id": "57cf283c",
   "metadata": {},
   "outputs": [
    {
     "name": "stdout",
     "output_type": "stream",
     "text": [
      "Prime numbers between 0 and 19:\n",
      "2\n",
      "3\n",
      "5\n",
      "7\n",
      "11\n",
      "13\n",
      "17\n",
      "19\n"
     ]
    }
   ],
   "source": [
    "def is_prime(num):\n",
    "    if num < 2:\n",
    "        return False\n",
    "    for i in range(2, int(num**0.5) + 1):\n",
    "        if num % i == 0:\n",
    "            return False\n",
    "    return True\n",
    "\n",
    "def print_primes_in_range(start, end):\n",
    "    for number in range(start, end + 1):\n",
    "        if is_prime(number):\n",
    "            print(number)\n",
    "\n",
    "# Example usage:\n",
    "start_range = 0\n",
    "end_range = 19\n",
    "print(f\"Prime numbers between {start_range} and {end_range}:\")\n",
    "print_primes_in_range(start_range, end_range)\n"
   ]
  },
  {
   "cell_type": "markdown",
   "id": "c6ebbfff",
   "metadata": {},
   "source": [
    "This Python program uses a for loop to iterate through a given range. It defines a function is_prime to check if a number is prime and another function print_primes_in_range to print prime numbers within the specified range. The loop calls the is_prime function for each number and prints the prime numbers. Adjust the range by modifying the start_range and end_range variables as needed."
   ]
  },
  {
   "cell_type": "markdown",
   "id": "e7dfe4b9",
   "metadata": {},
   "source": [
    "# 13. Develop a program that counts the number of vowels in a string using a `for` loop."
   ]
  },
  {
   "cell_type": "code",
   "execution_count": 16,
   "id": "e7bee2d7",
   "metadata": {},
   "outputs": [
    {
     "name": "stdout",
     "output_type": "stream",
     "text": [
      "The number of vowels in 'Hello, World!' is: 3\n"
     ]
    }
   ],
   "source": [
    "def count_vowels(input_string):\n",
    "    vowels = \"aeiouAEIOU\"\n",
    "    vowel_count = 0\n",
    "    for char in input_string:\n",
    "        if char in vowels:\n",
    "            vowel_count += 1\n",
    "    return vowel_count\n",
    "\n",
    "# Example usage:\n",
    "input_str = \"Hello, World!\"\n",
    "result = count_vowels(input_str)\n",
    "print(f\"The number of vowels in '{input_str}' is: {result}\")\n"
   ]
  },
  {
   "cell_type": "markdown",
   "id": "89abccda",
   "metadata": {},
   "source": [
    "In this program, the count_vowels function takes a string as input and iterates through each character using a for loop. It checks if each character is a vowel (both lowercase and uppercase) and increments the vowel_count accordingly. The example usage shows how to use the function with a specific string. Adjust the input_str variable for different input strings.\n",
    "\n",
    "\n",
    "\n",
    "\n",
    "\n"
   ]
  },
  {
   "cell_type": "markdown",
   "id": "4e30e329",
   "metadata": {},
   "source": [
    "# 14. Write a program to find the maximum element in a 2D list using a nested `for` loop."
   ]
  },
  {
   "cell_type": "code",
   "execution_count": 20,
   "id": "ac666e21",
   "metadata": {},
   "outputs": [
    {
     "name": "stdout",
     "output_type": "stream",
     "text": [
      "The maximum element in the 2D list is: 9\n"
     ]
    }
   ],
   "source": [
    "def find_max_element(matrix):\n",
    "    max_element = float('-inf')\n",
    "    for row in matrix:\n",
    "        for element in row:\n",
    "            if element > max_element:\n",
    "                max_element = element\n",
    "    return max_element\n",
    "\n",
    "# Example usage:\n",
    "my_2d_list = [\n",
    "    [1, 2, 3],\n",
    "    [4, 5, 6],\n",
    "    [7, 8, 9]\n",
    "]\n",
    "\n",
    "max_value = find_max_element(my_2d_list)\n",
    "print(\"The maximum element in the 2D list is:\", max_value)\n"
   ]
  },
  {
   "cell_type": "markdown",
   "id": "873ac394",
   "metadata": {},
   "source": [
    "this Python program utilizes nested for loops to iterate through each element in a 2D list. The function find_max_element initializes a variable max_element to negative infinity and updates it whenever a larger element is encountered. The example usage with a 2D list demonstrates finding the maximum element. Adjust the input matrix (my_2d_list) for different scenarios."
   ]
  },
  {
   "cell_type": "markdown",
   "id": "cf9de121",
   "metadata": {},
   "source": [
    "# 15. Create a program that removes all occurrences of a specific element from a list using a `for` loop.\n"
   ]
  },
  {
   "cell_type": "code",
   "execution_count": 24,
   "id": "8d2ccb61",
   "metadata": {},
   "outputs": [
    {
     "name": "stdout",
     "output_type": "stream",
     "text": [
      "List after removing all occurrences of 2: [1, 3, 4, 5]\n"
     ]
    }
   ],
   "source": [
    "def remove_element(lst, element):\n",
    "    for item in lst[:]:\n",
    "        if item == element:\n",
    "            lst.remove(item)\n",
    "\n",
    "# Example usage:\n",
    "my_list = [1, 2, 3, 4, 2, 5, 2]\n",
    "remove_element(my_list, 2)\n",
    "print(\"List after removing all occurrences of 2:\", my_list)\n"
   ]
  },
  {
   "cell_type": "markdown",
   "id": "49d58cf0",
   "metadata": {},
   "source": [
    "This program uses a for loop to iterate through a list and removes all occurrences of a specific element (2 in t"
   ]
  },
  {
   "cell_type": "markdown",
   "id": "f529cfa9",
   "metadata": {},
   "source": [
    "# 16. Develop a program that generates a multiplication table for numbers from 1 to 5 using a nested `for` loop."
   ]
  },
  {
   "cell_type": "code",
   "execution_count": 26,
   "id": "5c9d4667",
   "metadata": {},
   "outputs": [
    {
     "name": "stdout",
     "output_type": "stream",
     "text": [
      "1\t2\t3\t4\t5\t\n",
      "2\t4\t6\t8\t10\t\n",
      "3\t6\t9\t12\t15\t\n",
      "4\t8\t12\t16\t20\t\n"
     ]
    }
   ],
   "source": [
    "for i in range(1, 5):\n",
    "    for j in range(1, 6):\n",
    "        print(i * j, end=\"\\t\")\n",
    "    print()\n"
   ]
  },
  {
   "cell_type": "markdown",
   "id": "5ed7e6d9",
   "metadata": {},
   "source": [
    "This program uses nested for loops to generate a multiplication table for numbers from 1 to 5.\n",
    "\n"
   ]
  },
  {
   "cell_type": "markdown",
   "id": "34ff3dfe",
   "metadata": {},
   "source": [
    "# 17. Write a program that converts a list of Fahrenheit temperatures to Celsius using a `for` loop."
   ]
  },
  {
   "cell_type": "code",
   "execution_count": 34,
   "id": "6fb4a991",
   "metadata": {},
   "outputs": [
    {
     "name": "stdout",
     "output_type": "stream",
     "text": [
      "Celsius temperatures: [0.0, 20.0, 40.0, 100.0]\n"
     ]
    }
   ],
   "source": [
    "def fahrenheit_to_celsius(fahrenheit_temps):\n",
    "    celsius_temps = [(temp - 32) * 5/9 for temp in fahrenheit_temps]\n",
    "    return celsius_temps\n",
    "\n",
    "# Example usage:\n",
    "fahrenheit_temps = [32, 68, 104, 212]\n",
    "celsius_temps = fahrenheit_to_celsius(fahrenheit_temps)\n",
    "print(\"Celsius temperatures:\", celsius_temps)\n"
   ]
  },
  {
   "cell_type": "markdown",
   "id": "a3f7ae13",
   "metadata": {},
   "source": [
    "This program converts a list of Fahrenheit temperatures to Celsius using a list comprehension within a for loop."
   ]
  },
  {
   "cell_type": "markdown",
   "id": "7ef6a561",
   "metadata": {},
   "source": [
    "# 18. Create a program to print the common elements from two lists using a `for` loop."
   ]
  },
  {
   "cell_type": "code",
   "execution_count": 35,
   "id": "0c3bacb7",
   "metadata": {},
   "outputs": [
    {
     "name": "stdout",
     "output_type": "stream",
     "text": [
      "Common elements: [3, 4, 5]\n"
     ]
    }
   ],
   "source": [
    "list1 = [1, 2, 3, 4, 5]\n",
    "list2 = [3, 4, 5, 6, 7]\n",
    "\n",
    "common_elements = []\n",
    "\n",
    "for element in list1:\n",
    "    if element in list2:\n",
    "        common_elements.append(element)\n",
    "\n",
    "print(\"Common elements:\", common_elements)\n"
   ]
  },
  {
   "cell_type": "raw",
   "id": "569d94f8",
   "metadata": {},
   "source": [
    "# This Python program uses a for loop to iterate through each element in the first list (list1). For each element, it checks if that element is also present in the second list (list2). If a common element is found, it is appended to a separate list called common_elements. The program then prints the list of common elements."
   ]
  },
  {
   "cell_type": "markdown",
   "id": "4d2621b2",
   "metadata": {},
   "source": [
    "# 19. Develop a program that prints the pattern of right-angled triangles using a `for` loop. Use ‘*’ to draw the pattern"
   ]
  },
  {
   "cell_type": "code",
   "execution_count": 36,
   "id": "5a29055b",
   "metadata": {},
   "outputs": [
    {
     "name": "stdout",
     "output_type": "stream",
     "text": [
      "* \n",
      "* * \n",
      "* * * \n",
      "* * * * \n",
      "* * * * * \n"
     ]
    }
   ],
   "source": [
    "rows = 5\n",
    "\n",
    "for i in range(1, rows + 1):\n",
    "    for j in range(i):\n",
    "        print('*', end=' ')\n",
    "    print()\n"
   ]
  },
  {
   "cell_type": "code",
   "execution_count": 37,
   "id": "1e7f5191",
   "metadata": {},
   "outputs": [
    {
     "name": "stdout",
     "output_type": "stream",
     "text": [
      "* \n",
      "* * \n",
      "* * * \n",
      "* * * * \n",
      "* * * * * \n"
     ]
    }
   ],
   "source": [
    "for i in range(1, 6):\n",
    "    print('* ' * i)\n"
   ]
  },
  {
   "cell_type": "raw",
   "id": "4f97a80a",
   "metadata": {},
   "source": [
    "This Python program uses nested for loops to print a right-angled triangle pattern with '*' characters, adjusting the number of rows with the variable rows"
   ]
  },
  {
   "cell_type": "markdown",
   "id": "856dfd9f",
   "metadata": {},
   "source": [
    "# 20. Write a program to find the greatest common divisor (GCD) of two numbers using a `for` loop."
   ]
  },
  {
   "cell_type": "code",
   "execution_count": 38,
   "id": "112cfc91",
   "metadata": {},
   "outputs": [
    {
     "name": "stdout",
     "output_type": "stream",
     "text": [
      "The GCD of 24 and 36 is: 12\n"
     ]
    }
   ],
   "source": [
    "def find_gcd(num1, num2):\n",
    "    gcd = 1\n",
    "    for i in range(1, min(num1, num2) + 1):\n",
    "        if num1 % i == 0 and num2 % i == 0:\n",
    "            gcd = i\n",
    "    return gcd\n",
    "\n",
    "# Example usage:\n",
    "number1 = 24\n",
    "number2 = 36\n",
    "result = find_gcd(number1, number2)\n",
    "print(f\"The GCD of {number1} and {number2} is: {result}\")\n"
   ]
  },
  {
   "cell_type": "markdown",
   "id": "ca252aa2",
   "metadata": {},
   "source": [
    "\n",
    "This Python program uses a for loop to iteratively find the greatest common divisor (GCD) of two numbers. The find_gcd function checks for common divisors within the range of 1 to the minimum of the two numbers and updates the GCD accordingly. The example usage illustrates finding the GCD of 24 and 36. Adjust input values as needed."
   ]
  },
  {
   "cell_type": "markdown",
   "id": "6b710bf9",
   "metadata": {},
   "source": [
    "# type. 3:Advanced Level:"
   ]
  },
  {
   "cell_type": "markdown",
   "id": "b2e361ff",
   "metadata": {},
   "source": [
    "# 21. Create a program that calculates the sum of the digits of numbers in a list using a list comprehension."
   ]
  },
  {
   "cell_type": "code",
   "execution_count": 39,
   "id": "2ce16d0b",
   "metadata": {},
   "outputs": [
    {
     "name": "stdout",
     "output_type": "stream",
     "text": [
      "Original Numbers: [123, 456, 789]\n",
      "Sum of Digits: [6, 15, 24]\n"
     ]
    }
   ],
   "source": [
    "def digit_sum(number):\n",
    "    return sum(int(digit) for digit in str(number))\n",
    "\n",
    "# Example usage:\n",
    "numbers = [123, 456, 789]\n",
    "sums = [digit_sum(num) for num in numbers]\n",
    "\n",
    "print(\"Original Numbers:\", numbers)\n",
    "print(\"Sum of Digits:\", sums)\n"
   ]
  },
  {
   "cell_type": "markdown",
   "id": "310b67bf",
   "metadata": {},
   "source": [
    "In this program, the digit_sum function takes a number, converts it to a string, and uses a list comprehension to sum the individual digits. The example usage shows how to apply this function to a list of numbers, calculating the sum of digits for each number in the list. Adjust the numbers list for different input sets.\n",
    "\n",
    "\n",
    "\n",
    "\n",
    "\n"
   ]
  },
  {
   "cell_type": "markdown",
   "id": "218dfada",
   "metadata": {},
   "source": [
    "# 22. Write a program to find the prime factors of a given number using a `for` loop and list comprehension."
   ]
  },
  {
   "cell_type": "code",
   "execution_count": 40,
   "id": "a9699ef5",
   "metadata": {},
   "outputs": [
    {
     "name": "stdout",
     "output_type": "stream",
     "text": [
      "The prime factors of 56 are: [2, 7]\n"
     ]
    }
   ],
   "source": [
    "def find_prime_factors(number):\n",
    "    return [factor for factor in range(2, number + 1) if number % factor == 0 and all(factor % i != 0 for i in range(2, int(factor**0.5) + 1))]\n",
    "\n",
    "# Example usage:\n",
    "given_number = 56\n",
    "prime_factors = find_prime_factors(given_number)\n",
    "\n",
    "print(f\"The prime factors of {given_number} are:\", prime_factors)\n"
   ]
  },
  {
   "cell_type": "markdown",
   "id": "6de0ffd2",
   "metadata": {},
   "source": [
    "This Python program uses a for loop and list comprehension to find the prime factors of a given number. The find_prime_factors function iterates through the range of potential factors and checks if each factor is prime. The list comprehension collects the prime factors, and the example usage illustrates finding the prime factors of the number 56. Adjust the given_number variable for different input values.\n",
    "\n",
    "\n",
    "\n",
    "\n",
    "\n"
   ]
  },
  {
   "cell_type": "markdown",
   "id": "35b0a855",
   "metadata": {},
   "source": [
    "# 23. Develop a program that extracts unique elements from a list and stores them in a new list using a list comprehension."
   ]
  },
  {
   "cell_type": "code",
   "execution_count": 41,
   "id": "f14b1ad8",
   "metadata": {},
   "outputs": [
    {
     "name": "stdout",
     "output_type": "stream",
     "text": [
      "Original List: [1, 2, 2, 3, 4, 4, 5]\n",
      "Unique Elements: [1, 2, 3, 4, 5]\n"
     ]
    }
   ],
   "source": [
    "def extract_unique_elements(input_list):\n",
    "    return list(set(input_list))\n",
    "\n",
    "# Example usage:\n",
    "original_list = [1, 2, 2, 3, 4, 4, 5]\n",
    "unique_elements = extract_unique_elements(original_list)\n",
    "\n",
    "print(\"Original List:\", original_list)\n",
    "print(\"Unique Elements:\", unique_elements)\n"
   ]
  },
  {
   "cell_type": "markdown",
   "id": "069fa69e",
   "metadata": {},
   "source": [
    "This Python program defines a function, extract_unique_elements, which takes a list, converts it to a set to retain only unique elements, and then converts it back to a list. The program demonstrates using this function to extract unique elements from an original list and store them in a new list. Adjust the original_list variable for different input lists."
   ]
  },
  {
   "cell_type": "markdown",
   "id": "44f05f41",
   "metadata": {},
   "source": [
    "# 24. Create a program that generates a list of all palindromic numbers up to a specified limit using a list comprehension.\n"
   ]
  },
  {
   "cell_type": "code",
   "execution_count": 47,
   "id": "1f7b6816",
   "metadata": {},
   "outputs": [
    {
     "name": "stdout",
     "output_type": "stream",
     "text": [
      "Palindromic numbers up to 100: [0, 1, 2, 3, 4, 5, 6, 7, 8, 9, 11, 22, 33, 44, 55, 66, 77, 88, 99]\n"
     ]
    }
   ],
   "source": [
    "def is_palindrome(number):\n",
    "    return str(number) == str(number)[::-1]\n",
    "\n",
    "def generate_palindromic_numbers(limit):\n",
    "    return [num for num in range(limit + 1) if is_palindrome(num)]\n",
    "\n",
    "# Example usage:\n",
    "limit = 100\n",
    "palindromic_numbers = generate_palindromic_numbers(limit)\n",
    "\n",
    "print(f\"Palindromic numbers up to {limit}: {palindromic_numbers}\")\n"
   ]
  },
  {
   "cell_type": "markdown",
   "id": "5029c525",
   "metadata": {},
   "source": [
    "This Python program generates a list of palindromic numbers up to a specified limit using a list comprehension. The is_palindrome function checks if a number is a palindrome, and the generate_palindromic_numbers function utilizes this to create a list of palindromic numbers. The example usage demonstrates generating palindromic numbers up to a limit of 100. Adjust the limit variable for different maximum values."
   ]
  },
  {
   "cell_type": "markdown",
   "id": "52b4e0c4",
   "metadata": {},
   "source": [
    "# 25. Write a program to flatten a nested list using list comprehension."
   ]
  },
  {
   "cell_type": "code",
   "execution_count": 59,
   "id": "c2336202",
   "metadata": {},
   "outputs": [
    {
     "name": "stdout",
     "output_type": "stream",
     "text": [
      "Original Nested List: [1, [2, 3], [4, [5, 6]], 7]\n",
      "Flattened List: [1, 2, 3, 4, [5, 6], 7]\n"
     ]
    }
   ],
   "source": [
    "def flatten_nested_list(nested_list):\n",
    "    return [element for sublist in nested_list for element in (sublist if isinstance(sublist, list) else [sublist])]\n",
    "\n",
    "# Example usage:\n",
    "nested_list = [1, [2, 3], [4, [5, 6]], 7]\n",
    "flattened_list = flatten_nested_list(nested_list)\n",
    "\n",
    "print(\"Original Nested List:\", nested_list)\n",
    "print(\"Flattened List:\", flattened_list)\n"
   ]
  },
  {
   "cell_type": "markdown",
   "id": "63b9192c",
   "metadata": {},
   "source": [
    "This Python program uses a list comprehension to flatten a nested list. The flatten_nested_list function iterates through the elements of the nested list, and if an element is a sublist, it is further iterated to include its elements. The example usage shows flattening a nested list, and you can adjust the nested_list variable for different input lists."
   ]
  },
  {
   "cell_type": "markdown",
   "id": "c5987814",
   "metadata": {},
   "source": [
    "# 26. Develop a program that computes the sum of even and odd numbers in a list separately using list comprehension\n"
   ]
  },
  {
   "cell_type": "code",
   "execution_count": 60,
   "id": "817713b3",
   "metadata": {},
   "outputs": [
    {
     "name": "stdout",
     "output_type": "stream",
     "text": [
      "Original List: [1, 2, 3, 4, 5, 6, 7, 8, 9, 10]\n",
      "Sum of Even Numbers: 30\n",
      "Sum of Odd Numbers: 25\n"
     ]
    }
   ],
   "source": [
    "def sum_even_odd(numbers):\n",
    "    even_sum = sum(num for num in numbers if num % 2 == 0)\n",
    "    odd_sum = sum(num for num in numbers if num % 2 != 0)\n",
    "    return even_sum, odd_sum\n",
    "\n",
    "# Example usage:\n",
    "number_list = [1, 2, 3, 4, 5, 6, 7, 8, 9, 10]\n",
    "even_sum, odd_sum = sum_even_odd(number_list)\n",
    "\n",
    "print(\"Original List:\", number_list)\n",
    "print(\"Sum of Even Numbers:\", even_sum)\n",
    "print(\"Sum of Odd Numbers:\", odd_sum)\n"
   ]
  },
  {
   "cell_type": "markdown",
   "id": "4deb6830",
   "metadata": {},
   "source": [
    "In this program, the sum_even_odd function takes a list of numbers and uses two list comprehensions to compute the sum of even and odd numbers separately. The sum function is then used to find the total sum for each category. The example usage demonstrates computing the sum of even and odd numbers in a given list. Adjust the number_list variable for different input lists.\n",
    "\n",
    "\n",
    "\n",
    "\n",
    "\n"
   ]
  },
  {
   "cell_type": "markdown",
   "id": "cf447f20",
   "metadata": {},
   "source": [
    "# 27. Create a program that generates a list of squares of odd numbers between 1 and 10 using list comprehension\n"
   ]
  },
  {
   "cell_type": "code",
   "execution_count": 61,
   "id": "9e79f500",
   "metadata": {},
   "outputs": [
    {
     "name": "stdout",
     "output_type": "stream",
     "text": [
      "List of Squares of Odd Numbers: [1, 9, 25, 49, 81]\n"
     ]
    }
   ],
   "source": [
    "# Using list comprehension to generate squares of odd numbers\n",
    "squares_of_odd_numbers = [x**2 for x in range(1, 11) if x % 2 != 0]\n",
    "\n",
    "# Print the result\n",
    "print(\"List of Squares of Odd Numbers:\", squares_of_odd_numbers)\n"
   ]
  },
  {
   "cell_type": "markdown",
   "id": "393ace64",
   "metadata": {},
   "source": [
    "In this program, the list comprehension iterates through numbers from 1 to 10, and for each odd number, it calculates and includes its square in the resulting list. The if x % 2 != 0 condition ensures that only odd numbers are considered."
   ]
  },
  {
   "cell_type": "markdown",
   "id": "8ca2cfc5",
   "metadata": {},
   "source": [
    "# 28. Write a program that combines two lists into a dictionary using list comprehension."
   ]
  },
  {
   "cell_type": "code",
   "execution_count": 62,
   "id": "aa85aef7",
   "metadata": {},
   "outputs": [
    {
     "name": "stdout",
     "output_type": "stream",
     "text": [
      "Combined Dictionary: {'name': 'Alice', 'age': 25, 'city': 'New York'}\n"
     ]
    }
   ],
   "source": [
    "# Example lists\n",
    "keys = ['name', 'age', 'city']\n",
    "values = ['Alice', 25, 'New York']\n",
    "\n",
    "# Combining lists into a dictionary using list comprehension\n",
    "combined_dict = {keys[i]: values[i] for i in range(min(len(keys), len(values)))}\n",
    "\n",
    "# Print the result\n",
    "print(\"Combined Dictionary:\", combined_dict)\n"
   ]
  },
  {
   "cell_type": "markdown",
   "id": "9ecaf41b",
   "metadata": {},
   "source": [
    "n this program, the list comprehension combines corresponding elements from two lists (keys and values) into key-value pairs in a dictionary. The min(len(keys), len(values)) ensures that the loop iterates up to the length of the shorter list to prevent index errors. Adjust the keys and values lists for different input data.\n",
    "\n",
    "\n",
    "\n",
    "\n",
    "\n"
   ]
  },
  {
   "cell_type": "markdown",
   "id": "44f1e508",
   "metadata": {},
   "source": [
    "# 29. Develop a program that extracts the vowels from a string and stores them in a list using list comprehension."
   ]
  },
  {
   "cell_type": "code",
   "execution_count": 63,
   "id": "5f5ed11f",
   "metadata": {},
   "outputs": [
    {
     "name": "stdout",
     "output_type": "stream",
     "text": [
      "Original String: Hello, World!\n",
      "List of Vowels: ['e', 'o', 'o']\n"
     ]
    }
   ],
   "source": [
    "# Function to extract vowels from a string\n",
    "def extract_vowels(input_string):\n",
    "    vowels = [char for char in input_string if char.lower() in 'aeiou']\n",
    "    return vowels\n",
    "\n",
    "# Example usage:\n",
    "input_str = \"Hello, World!\"\n",
    "vowels_list = extract_vowels(input_str)\n",
    "\n",
    "print(\"Original String:\", input_str)\n",
    "print(\"List of Vowels:\", vowels_list)\n"
   ]
  },
  {
   "cell_type": "markdown",
   "id": "76ed4954",
   "metadata": {},
   "source": [
    "In this program, the extract_vowels function uses a list comprehension to iterate through the characters of the input string, checking if each character (converted to lowercase) is a vowel. The example usage demonstrates extracting vowels from the string \"Hello, World!\". Adjust the input_str variable for different input strings"
   ]
  },
  {
   "cell_type": "markdown",
   "id": "d2dcd603",
   "metadata": {},
   "source": [
    "# 30. Create a program that removes all non-numeric characters from a list of strings using list comprehension."
   ]
  },
  {
   "cell_type": "code",
   "execution_count": 64,
   "id": "f2a1fdbe",
   "metadata": {},
   "outputs": [
    {
     "name": "stdout",
     "output_type": "stream",
     "text": [
      "Original List of Strings: ['abc123', '45xyz', '789!@#']\n",
      "List of Numeric Strings: ['123', '45', '789']\n"
     ]
    }
   ],
   "source": [
    "# Function to remove non-numeric characters from a list of strings\n",
    "def remove_non_numeric(strings_list):\n",
    "    numeric_strings = [''.join(char for char in string if char.isdigit()) for string in strings_list]\n",
    "    return numeric_strings\n",
    "\n",
    "# Example usage:\n",
    "string_list = [\"abc123\", \"45xyz\", \"789!@#\"]\n",
    "\n",
    "numeric_strings_list = remove_non_numeric(string_list)\n",
    "\n",
    "print(\"Original List of Strings:\", string_list)\n",
    "print(\"List of Numeric Strings:\", numeric_strings_list)\n"
   ]
  },
  {
   "cell_type": "markdown",
   "id": "e1fd55b1",
   "metadata": {},
   "source": [
    "In this program, the remove_non_numeric function uses a list comprehension to iterate through each string in the input list. It then joins only the numeric characters using char.isdigit(). The example usage demonstrates removing non-numeric characters from a list of strings. Adjust the string_list variable for different input lists."
   ]
  },
  {
   "cell_type": "markdown",
   "id": "9a2e26f6",
   "metadata": {},
   "source": [
    "# Type 4:Challenge Level:"
   ]
  },
  {
   "cell_type": "markdown",
   "id": "e44a67ed",
   "metadata": {},
   "source": [
    "# 31. Write a program to generate a list of prime numbers using the Sieve of Eratosthenes algorithm and list comprehension."
   ]
  },
  {
   "cell_type": "code",
   "execution_count": 1,
   "id": "c7676231",
   "metadata": {},
   "outputs": [
    {
     "name": "stdout",
     "output_type": "stream",
     "text": [
      "Prime numbers up to 50 are: [2, 3, 5, 7, 11, 13, 17, 19, 23, 29, 31, 37, 41, 43, 47]\n"
     ]
    }
   ],
   "source": [
    "def sieve_of_eratosthenes(limit):\n",
    "    # Create a boolean list \"is_prime[0..limit]\" and initialize all entries it as true.\n",
    "    is_prime = [True] * (limit + 1)\n",
    "    is_prime[0] = is_prime[1] = False  # 0 and 1 are not prime numbers\n",
    "\n",
    "    # Iterate through all numbers starting from 2 (the first prime)\n",
    "    for num in range(2, int(limit**0.5) + 1):\n",
    "        if is_prime[num]:\n",
    "            # Mark all multiples of num as not prime\n",
    "            for multiple in range(num**2, limit + 1, num):\n",
    "                is_prime[multiple] = False\n",
    "\n",
    "    # Generate the list of prime numbers\n",
    "    primes = [num for num in range(2, limit + 1) if is_prime[num]]\n",
    "    return primes\n",
    "\n",
    "# Example: Generate prime numbers up to 50\n",
    "limit = 50\n",
    "prime_numbers = sieve_of_eratosthenes(limit)\n",
    "print(\"Prime numbers up to\", limit, \"are:\", prime_numbers)\n"
   ]
  },
  {
   "cell_type": "markdown",
   "id": "35e8529b",
   "metadata": {},
   "source": [
    "Function Definition: The program defines a function sieve_of_eratosthenes that takes a limit as input.\n",
    "\n",
    "Initialize Boolean List: It creates a boolean list is_prime of size (limit + 1) and initializes all entries as True. It then marks 0 and 1 as False since they are not prime.\n",
    "\n",
    "Sieve Process: It iterates through numbers starting from 2 up to the square root of the limit. For each prime number found, it marks its multiples as not prime.\n",
    "\n",
    "Generate Prime List: After the sieve process, the program creates a list of prime numbers from the boolean list where the value is still True.\n",
    "\n",
    "Example Usage: The program demonstrates its usage by generating prime numbers up to a specified limit (in this case, 50) and prints the result."
   ]
  },
  {
   "cell_type": "markdown",
   "id": "61b7072b",
   "metadata": {},
   "source": [
    "# 32. Create a program that generates a list of all Pythagorean triplets up to a specified limit using listcomprehension.\n",
    "."
   ]
  },
  {
   "cell_type": "code",
   "execution_count": null,
   "id": "60e0fa81",
   "metadata": {},
   "outputs": [
    {
     "name": "stdout",
     "output_type": "stream",
     "text": [
      "Enter the limit for Pythagorean triplets: 70704015044\n"
     ]
    }
   ],
   "source": [
    "def generate_pythagorean_triplets(limit):\n",
    "    triplets = [(a, b, c) for a in range(1, limit + 1) for b in range(a, limit + 1) for c in range(b, limit + 1) if a**2 + b**2 == c**2]\n",
    "    return triplets\n",
    "\n",
    "# Specify the limit\n",
    "limit = int(input(\"Enter the limit for Pythagorean triplets: \"))\n",
    "\n",
    "# Generate and print the Pythagorean triplets\n",
    "triplets = generate_pythagorean_triplets(limit)\n",
    "print(\"Pythagorean Triplets up to {}: {}\".format(limit, triplets))\n"
   ]
  },
  {
   "cell_type": "markdown",
   "id": "f056ecaa",
   "metadata": {},
   "source": [
    "This program uses list comprehension to generate Pythagorean triplets (a, b, c) where a, b, and c are integers up to the specified limit. The condition a**2 + b**2 == c**2 ensures that only valid Pythagorean triplets are included in the list. The triplets are then printed to the console.\n",
    "\n",
    "\n",
    "\n",
    "\n",
    "\n"
   ]
  },
  {
   "cell_type": "markdown",
   "id": "52b19ba9",
   "metadata": {},
   "source": [
    "# 33. Develop a program that generates a list of all possible combinations of two lists using list comprehension."
   ]
  },
  {
   "cell_type": "code",
   "execution_count": 2,
   "id": "d06d23ba",
   "metadata": {},
   "outputs": [
    {
     "name": "stdout",
     "output_type": "stream",
     "text": [
      "All possible combinations of [1, 2, 3] and ['a', 'b', 'c']: [(1, 'a'), (1, 'b'), (1, 'c'), (2, 'a'), (2, 'b'), (2, 'c'), (3, 'a'), (3, 'b'), (3, 'c')]\n"
     ]
    }
   ],
   "source": [
    "list1 = [1, 2, 3]\n",
    "list2 = ['a', 'b', 'c']\n",
    "\n",
    "combinations = [(x, y) for x in list1 for y in list2]\n",
    "print(\"All possible combinations of {} and {}: {}\".format(list1, list2, combinations))\n",
    "\n"
   ]
  },
  {
   "cell_type": "markdown",
   "id": "c93b2f9d",
   "metadata": {},
   "source": [
    "\n",
    "The provided Python program uses list comprehension to generate all possible combinations of elements from two given lists. It defines two lists (list1 and list2), and then uses a list comprehension to create a new list (combinations) containing tuples of elements from the two lists. Finally, it prints the original lists and the generated combinations."
   ]
  },
  {
   "cell_type": "markdown",
   "id": "884cd055",
   "metadata": {},
   "source": [
    "# 34. Write a program that calculates the mean, median, and mode of a list of numbers using list comprehension."
   ]
  },
  {
   "cell_type": "code",
   "execution_count": 11,
   "id": "bb7de3df",
   "metadata": {},
   "outputs": [
    {
     "name": "stdout",
     "output_type": "stream",
     "text": [
      "Enter a list of numbers separated by spaces: 6 7 4 6\n",
      "Mean: 5.75\n",
      "Median: 6.00\n",
      "Mode: 6.0\n"
     ]
    }
   ],
   "source": [
    "from statistics import mean, median, mode\n",
    "\n",
    "# Input list of numbers\n",
    "numbers = [float(x) for x in input(\"Enter a list of numbers separated by spaces: \").split()]\n",
    "\n",
    "# Calculate mean, median, and mode\n",
    "mean_value = mean(numbers)\n",
    "median_value = median(numbers)\n",
    "try:\n",
    "    mode_value = mode(numbers)\n",
    "except StatisticsError:\n",
    "    mode_value = \"No unique mode\"\n",
    "\n",
    "# Display results\n",
    "print(\"Mean: {:.2f}\".format(mean_value))\n",
    "print(\"Median: {:.2f}\".format(median_value))\n",
    "print(\"Mode: {}\".format(mode_value))\n"
   ]
  },
  {
   "cell_type": "markdown",
   "id": "d531a072",
   "metadata": {},
   "source": [
    "This program uses the statistics module to calculate the mean, median, and mode of a list of numbers. It takes user input for the list of numbers, converts them to float using list comprehension, and then calculates the mean, median, and mode. The results are then displayed.\n",
    "\n",
    "You can run this program, enter a list of numbers when prompted, and it will calculate and display the mean, median, and mode for the given list."
   ]
  },
  {
   "cell_type": "markdown",
   "id": "46acc8ec",
   "metadata": {},
   "source": [
    "# 35. Create a program that generates Pascal's triangle up to a specified number of rows using list comprehension.\n"
   ]
  },
  {
   "cell_type": "code",
   "execution_count": null,
   "id": "a9443e77",
   "metadata": {},
   "outputs": [],
   "source": [
    "def generate_pascals_triangle(rows):\n",
    "    triangle = [[1] if i == 0 else [1] + [triangle[i-1][j-1] + triangle[i-1][j] for j in range(1, i)] + [1] for i in range(rows)]\n",
    "    return triangle\n",
    "\n",
    "# Input for the number of rows\n",
    "rows = int(input(\"Enter the number of rows for Pascal's triangle: \"))\n",
    "\n",
    "# Generate and print Pascal's triangle\n",
    "pascals_triangle = generate_pascals_triangle(rows)\n",
    "for row in pascals_triangle:\n",
    "    print(row)\n"
   ]
  },
  {
   "cell_type": "markdown",
   "id": "99c9c339",
   "metadata": {},
   "source": [
    "Certainly! The provided Python program uses list comprehension to generate Pascal's triangle up to a specified number of rows. The program defines a function, generate_pascals_triangle, which uses list comprehension to construct each row of Pascal's triangle based on the elements from the previous row. The user is prompted to input the number of rows, and the program then prints Pascal's triangle up to the specified number of rows"
   ]
  },
  {
   "cell_type": "markdown",
   "id": "4219f589",
   "metadata": {},
   "source": [
    "# 36. Develop a program that calculates the sum of the digits of a factorial of numbers from 1 to 5 using list\n",
    "comprehension."
   ]
  },
  {
   "cell_type": "code",
   "execution_count": 1,
   "id": "6c815020",
   "metadata": {},
   "outputs": [
    {
     "name": "stdout",
     "output_type": "stream",
     "text": [
      "The sum of the digits of 1! is: 1\n",
      "The sum of the digits of 2! is: 2\n",
      "The sum of the digits of 3! is: 6\n",
      "The sum of the digits of 4! is: 6\n",
      "The sum of the digits of 5! is: 3\n"
     ]
    }
   ],
   "source": [
    "import math\n",
    "\n",
    "# Calculate the factorial of a number\n",
    "def factorial(n):\n",
    "    return math.factorial(n)\n",
    "\n",
    "# Calculate the sum of the digits of a number\n",
    "def sum_of_digits(number):\n",
    "    return sum(int(digit) for digit in str(number))\n",
    "\n",
    "# Calculate the sum of the digits of the factorial of numbers from 1 to 5\n",
    "sums = [sum_of_digits(factorial(n)) for n in range(1, 6)]\n",
    "\n",
    "# Print the results\n",
    "for n, s in zip(range(1, 6), sums):\n",
    "    print(f\"The sum of the digits of {n}! is: {s}\")\n"
   ]
  },
  {
   "cell_type": "markdown",
   "id": "6644d53c",
   "metadata": {},
   "source": [
    "In this program, the factorial function from the math module calculates the factorial of a given number. The sum_of_digits function calculates the sum of the digits of a given number by converting it to a string and summing its integer digits. The list comprehension generates a list of sums for the factorial of numbers from 1 to 5. Finally, the program prints the results.\n",
    "\n",
    "\n",
    "\n",
    "\n",
    "\n"
   ]
  },
  {
   "cell_type": "markdown",
   "id": "745ce6ff",
   "metadata": {},
   "source": [
    "# 37. Write a program that finds the longest word in a sentence using list comprehension."
   ]
  },
  {
   "cell_type": "code",
   "execution_count": 2,
   "id": "0458eae5",
   "metadata": {},
   "outputs": [
    {
     "name": "stdout",
     "output_type": "stream",
     "text": [
      "Enter a sentence: mohammad shahahanshah\n",
      "The longest word in the sentence is: shahahanshah\n"
     ]
    }
   ],
   "source": [
    "# Input sentence\n",
    "sentence = input(\"Enter a sentence: \")\n",
    "\n",
    "# Find the longest word using list comprehension\n",
    "longest_word = max((word.strip(\".,!?\") for word in sentence.split()), key=len)\n",
    "\n",
    "# Display the result\n",
    "print(f\"The longest word in the sentence is: {longest_word}\")\n"
   ]
  },
  {
   "cell_type": "markdown",
   "id": "fc34de9b",
   "metadata": {},
   "source": [
    "The Python program uses list comprehension to find the longest word in a user-input sentence. It splits the sentence into words, removes punctuation, and then identifies the longest word by applying the max function with the key set to the length of each word. The result is then displayed to the user."
   ]
  },
  {
   "cell_type": "markdown",
   "id": "1ee61769",
   "metadata": {},
   "source": [
    "# 38. Create a program that filters a list of strings to include only those with more than three vowels using list comprehension.\n"
   ]
  },
  {
   "cell_type": "code",
   "execution_count": 4,
   "id": "693fa691",
   "metadata": {},
   "outputs": [
    {
     "name": "stdout",
     "output_type": "stream",
     "text": [
      "Enter a list of strings separated by spaces: shhaha moham kasjd\n",
      "Words with more than three vowels: []\n"
     ]
    }
   ],
   "source": [
    "# Function to count vowels in a string\n",
    "def count_vowels(word):\n",
    "    return sum(1 for char in word.lower() if char in 'aeiou')\n",
    "\n",
    "# Input list of strings\n",
    "word_list = input(\"Enter a list of strings separated by spaces: \").split()\n",
    "\n",
    "# Filter words with more than three vowels using list comprehension\n",
    "filtered_words = [word for word in word_list if count_vowels(word) > 3]\n",
    "\n",
    "# Display the result\n",
    "print(\"Words with more than three vowels: {}\".format(filtered_words))\n"
   ]
  },
  {
   "cell_type": "markdown",
   "id": "5a53cd38",
   "metadata": {},
   "source": [
    "Count Vowels Function: The count_vowels function is defined to count the number of vowels in a given word. It converts the word to lowercase and uses list comprehension to count the vowels.\n",
    "\n",
    "User Input: The user is prompted to enter a list of strings separated by spaces.\n",
    "\n",
    "List Comprehension: The program uses list comprehension to create a new list (filtered_words). It iterates over each word in the input list and includes only those words for which the count of vowels (using count_vowels) is greater than 3.\n",
    "\n",
    "Display Result: Finally, the program prints the words from the list that have more than three vowels."
   ]
  },
  {
   "cell_type": "markdown",
   "id": "8055193d",
   "metadata": {},
   "source": [
    "# 39. Develop a program that calculates the sum of the digits of numbers from 1 to 1000 using list comprehension.\n"
   ]
  },
  {
   "cell_type": "code",
   "execution_count": 5,
   "id": "dc1bfe0c",
   "metadata": {},
   "outputs": [
    {
     "name": "stdout",
     "output_type": "stream",
     "text": [
      "The sum of digits for numbers from 1 to 1000 is: 13501\n"
     ]
    }
   ],
   "source": [
    "# Function to calculate the sum of digits in a number\n",
    "def sum_of_digits(number):\n",
    "    return sum(int(digit) for digit in str(number))\n",
    "\n",
    "# Calculate the sum of digits for numbers from 1 to 1000 using list comprehension\n",
    "sums = [sum_of_digits(n) for n in range(1, 1001)]\n",
    "\n",
    "# Print the results\n",
    "print(f\"The sum of digits for numbers from 1 to 1000 is: {sum(sums)}\")\n"
   ]
  },
  {
   "cell_type": "markdown",
   "id": "f49a40b2",
   "metadata": {},
   "source": [
    "The sum_of_digits function calculates the sum of digits in a given number by converting it to a string and summing its integer digits.\n",
    "\n",
    "List comprehension is used to generate a list (sums) of the sum of digits for numbers from 1 to 1000.\n",
    "\n",
    "The program prints the total sum of digits for all numbers in the specified range.\n",
    "\n",
    "You can run this program to find the sum of digits for numbers from 1 to 1000."
   ]
  },
  {
   "cell_type": "markdown",
   "id": "31a372a8",
   "metadata": {},
   "source": [
    "# 40. Write a program that generates a list of prime palindromic numbers using list comprehension."
   ]
  },
  {
   "cell_type": "code",
   "execution_count": 7,
   "id": "d93051a9",
   "metadata": {},
   "outputs": [
    {
     "name": "stdout",
     "output_type": "stream",
     "text": [
      "Prime palindromic numbers: [2, 3, 5, 7, 11, 101, 131, 151, 181, 191, 313, 353, 373, 383, 727, 757, 787, 797, 919, 929]\n"
     ]
    }
   ],
   "source": [
    "def is_prime(n):\n",
    "    if n < 2:\n",
    "        return False\n",
    "    for i in range(2, int(n**0.5) + 1):\n",
    "        if n % i == 0:\n",
    "            return False\n",
    "    return True\n",
    "\n",
    "# Generate a list of prime palindromic numbers using list comprehension\n",
    "prime_palindromes = [num for num in range(1, 1000) if is_prime(num) and str(num) == str(num)[::-1]]\n",
    "\n",
    "# Display the result\n",
    "print(\"Prime palindromic numbers: {}\".format(prime_palindromes))\n"
   ]
  },
  {
   "cell_type": "markdown",
   "id": "bdf870bb",
   "metadata": {},
   "source": [
    "This Python program generates a list of prime palindromic numbers using list comprehension. It defines a function (is_prime) to check if a number is prime, and then uses list comprehension to create a list of numbers from 1 to 999 that are both prime and palindromic. The resulting list is then displayed."
   ]
  },
  {
   "cell_type": "markdown",
   "id": "0274131b",
   "metadata": {},
   "source": [
    "# THANK YOU"
   ]
  }
 ],
 "metadata": {
  "kernelspec": {
   "display_name": "Python 3 (ipykernel)",
   "language": "python",
   "name": "python3"
  },
  "language_info": {
   "codemirror_mode": {
    "name": "ipython",
    "version": 3
   },
   "file_extension": ".py",
   "mimetype": "text/x-python",
   "name": "python",
   "nbconvert_exporter": "python",
   "pygments_lexer": "ipython3",
   "version": "3.11.5"
  }
 },
 "nbformat": 4,
 "nbformat_minor": 5
}
