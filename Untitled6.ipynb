{
 "cells": [
  {
   "cell_type": "code",
   "execution_count": 1,
   "id": "3fd5fc1c",
   "metadata": {},
   "outputs": [
    {
     "name": "stdout",
     "output_type": "stream",
     "text": [
      "After swapping:\n",
      "x = 10\n",
      "y = 5\n"
     ]
    }
   ],
   "source": [
    "#1:Declare two variables,`x`and `y`, and assign them integer values. Swap thevalues of these variables without using any temporary variable.\n",
    "\n",
    "x = 5\n",
    "y = 10\n",
    "\n",
    "x = x + y\n",
    "y = x - y\n",
    "x = x - y\n",
    "\n",
    "print(\"After swapping:\")\n",
    "print(\"x =\", x)\n",
    "print(\"y =\", y)"
   ]
  },
  {
   "cell_type": "code",
   "execution_count": 4,
   "id": "be542d10",
   "metadata": {},
   "outputs": [
    {
     "name": "stdout",
     "output_type": "stream",
     "text": [
      "the rectangular: 1440\n"
     ]
    }
   ],
   "source": [
    "# 02:Create a program that calculates the area of a rectangle. Take the length andwidth as inputs from the user and store them in variables. Calculate anddisplay the area\n",
    "\n",
    "#get the length and width\n",
    "length=45\n",
    "width=32\n",
    "#Calculate the area of the rectangle\n",
    "area=length*width\n",
    "print(\"the rectangular:\" ,area)"
   ]
  },
  {
   "cell_type": "code",
   "execution_count": 6,
   "id": "5a3644a3",
   "metadata": {},
   "outputs": [
    {
     "name": "stdout",
     "output_type": "stream",
     "text": [
      "Enter temperature in Celsius: 46\n",
      "46.0 degrees Celsius is equal to 114.8 degrees Fahrenheit.\n"
     ]
    }
   ],
   "source": [
    "'''03:'Write a Python program that converts temperatures from Celsius toFahrenheit. Take the temperature in Celsius as input, store it in a variable,\n",
    "convert it to Fahrenheit, and display the result'''\n",
    "\n",
    "# Get the temperature in Celsius from the user\n",
    "celsius = float(input(\"Enter temperature in Celsius: \"))\n",
    "\n",
    "# Convert Celsius to Fahrenheit\n",
    "fahrenheit = (celsius * 9/5) + 32\n",
    "\n",
    "# Display the result\n",
    "print(f\"{celsius} degrees Celsius is equal to {fahrenheit} degrees Fahrenheit.\")"
   ]
  },
  {
   "cell_type": "code",
   "execution_count": 7,
   "id": "bf476363",
   "metadata": {},
   "outputs": [],
   "source": [
    "#TOPIC: String Based Questions"
   ]
  },
  {
   "cell_type": "code",
   "execution_count": 8,
   "id": "93a6d16d",
   "metadata": {},
   "outputs": [
    {
     "name": "stdout",
     "output_type": "stream",
     "text": [
      "Enter a string: shahahsnhaha\n",
      "The length of the input string is: 12\n"
     ]
    }
   ],
   "source": [
    "#Write a Python program that takes a string as input and prints the length ofthe string.\n",
    "# Get a string as input from the user\n",
    "input_string = input(\"Enter a string: \")\n",
    "\n",
    "# Calculate and print the length of the string\n",
    "string_length = len(input_string)\n",
    "print(\"The length of the input string is:\", string_length)"
   ]
  },
  {
   "cell_type": "code",
   "execution_count": 9,
   "id": "46c2e27a",
   "metadata": {},
   "outputs": [
    {
     "name": "stdout",
     "output_type": "stream",
     "text": [
      "Enter a sentence: shahahsnahs akbaer\n",
      "The number of vowels in the sentence is: 6\n"
     ]
    }
   ],
   "source": [
    "#2: Create a program that takes a sentence from the user and counts the numberof vowels (a, e, i, o, u) in the string\n",
    "\n",
    "\n",
    "# Get a sentence as input from the user\n",
    "input_sentence = input(\"Enter a sentence: \")\n",
    "\n",
    "# Convert the input sentence to lowercase to make the vowel count case-insensitive\n",
    "input_sentence = input_sentence.lower()\n",
    "\n",
    "# Initialize a variable to count vowels\n",
    "vowel_count = 0\n",
    "\n",
    "# Iterate through the sentence and count vowels\n",
    "for char in input_sentence:\n",
    "    if char in \"aeiou\":\n",
    "        vowel_count += 1\n",
    "\n",
    "# Print the number of vowels in the sentence\n",
    "print(f\"The number of vowels in the sentence is: {vowel_count}\")"
   ]
  },
  {
   "cell_type": "code",
   "execution_count": 10,
   "id": "667c0ba7",
   "metadata": {},
   "outputs": [
    {
     "name": "stdout",
     "output_type": "stream",
     "text": [
      "Enter a string: \"sgahashsh'\n",
      "Reversed string: 'hshsahags\"\n"
     ]
    }
   ],
   "source": [
    "#03:Given a string, reverse the order of characters using string slicing and printthe reversed string.\n",
    "\n",
    "\n",
    "input_string = input(\"Enter a string: \")\n",
    "\n",
    "# Reverse the string using string slicing and print the result\n",
    "reversed_string = input_string[::-1]\n",
    "print(\"Reversed string:\", reversed_string)"
   ]
  },
  {
   "cell_type": "code",
   "execution_count": 12,
   "id": "78413209",
   "metadata": {},
   "outputs": [
    {
     "name": "stdout",
     "output_type": "stream",
     "text": [
      "Enter a string: shahahsnah\n",
      "The input string is not a palindrome.\n"
     ]
    }
   ],
   "source": [
    "#4. Write a program that takes a string as input and checks if it is a palindrome(reads the same forwards and backwards).\n",
    "\n",
    "\n",
    "# Get a string as input from the user\n",
    "input_string = input(\"Enter a string: \")\n",
    "\n",
    "# Remove spaces and convert to lowercase for case-insensitive comparison\n",
    "cleaned_string = input_string.replace(\" \", \"\").lower()\n",
    "\n",
    "# Check if the cleaned string is the same as its reverse\n",
    "if cleaned_string == cleaned_string[::-1]:\n",
    "    print(\"The input string is a palindrome.\")\n",
    "else:\n",
    "    print(\"The input string is not a palindrome.\")"
   ]
  },
  {
   "cell_type": "code",
   "execution_count": 18,
   "id": "ec6b4e94",
   "metadata": {},
   "outputs": [
    {
     "name": "stdout",
     "output_type": "stream",
     "text": [
      "Enter a string: sha han shah kas hib ari\n",
      "Modified string without spaces: shahanshahkashibari\n"
     ]
    }
   ],
   "source": [
    "#5. Create a program that takes a string as input and removes all the spaces fromit. Print the modified string without spaces.\n",
    "\n",
    "# Get a string as input from the user\n",
    "input_string = input(\"Enter a string: \")\n",
    "\n",
    "# Remove spaces from the input string\n",
    "modified_string = \"\".join(input_string.split())\n",
    "\n",
    "# Print the modified string without spaces\n",
    "print(\"Modified string without spaces:\", modified_string)"
   ]
  },
  {
   "cell_type": "code",
   "execution_count": null,
   "id": "2d0c375a",
   "metadata": {},
   "outputs": [],
   "source": []
  }
 ],
 "metadata": {
  "kernelspec": {
   "display_name": "Python 3 (ipykernel)",
   "language": "python",
   "name": "python3"
  },
  "language_info": {
   "codemirror_mode": {
    "name": "ipython",
    "version": 3
   },
   "file_extension": ".py",
   "mimetype": "text/x-python",
   "name": "python",
   "nbconvert_exporter": "python",
   "pygments_lexer": "ipython3",
   "version": "3.11.5"
  }
 },
 "nbformat": 4,
 "nbformat_minor": 5
}
